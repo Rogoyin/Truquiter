{
 "cells": [
  {
   "cell_type": "code",
   "execution_count": 439,
   "metadata": {},
   "outputs": [],
   "source": [
    "import random\n",
    "from typing import List, Tuple"
   ]
  },
  {
   "cell_type": "code",
   "execution_count": 440,
   "metadata": {},
   "outputs": [],
   "source": [
    "def Generate_Full_Deck():\n",
    "    Values = [1, 2, 3, 4, 5, 6, 7, 8, 11, 12]\n",
    "    Suits = ['Oro', 'Espada', 'Basto', 'Copa']\n",
    "    Deck = []\n",
    "    for Value in Values:\n",
    "        for Suit in Suits:\n",
    "            Card = [Value, Suit]\n",
    "            Deck.append(Card)\n",
    "    \n",
    "    return Deck"
   ]
  },
  {
   "cell_type": "code",
   "execution_count": 441,
   "metadata": {},
   "outputs": [],
   "source": [
    "class Player_Entity():\n",
    "    def __init__(self, Nickname):\n",
    "        self.Nickname = Nickname\n",
    "        self.Cards: List[List] = []  \n",
    "    \n",
    "    def Play_Card(self, Card: List[List]):\n",
    "        if Card in self.Cards:\n",
    "            self.Cards.remove(Card)\n",
    "            return Card\n",
    "        else:\n",
    "            print(f'This card is not in the hand of {self.Nickname}.')"
   ]
  },
  {
   "cell_type": "code",
   "execution_count": 442,
   "metadata": {},
   "outputs": [],
   "source": [
    "class Table_Entity():\n",
    "    def __init__(self):\n",
    "        self.Cards: List[List] = []"
   ]
  },
  {
   "cell_type": "code",
   "execution_count": 443,
   "metadata": {},
   "outputs": [],
   "source": [
    "class Deck_Entity():\n",
    "    def __init__(self):\n",
    "        self.Cards: List[List] = Generate_Full_Deck()"
   ]
  },
  {
   "cell_type": "code",
   "execution_count": 444,
   "metadata": {},
   "outputs": [],
   "source": [
    "def Generate_Random_Card(Deck: Deck_Entity):\n",
    "    return (random.choice(Deck.Cards))"
   ]
  },
  {
   "cell_type": "code",
   "execution_count": 445,
   "metadata": {},
   "outputs": [],
   "source": [
    "def Deal_Card(Deck: Deck_Entity, *Players: Player_Entity):\n",
    "    for Player in Players:\n",
    "        Card = Generate_Random_Card(Deck)\n",
    "        Player.Cards.append(Card)\n",
    "        Deck.Cards.remove(Card)"
   ]
  },
  {
   "cell_type": "code",
   "execution_count": 446,
   "metadata": {},
   "outputs": [],
   "source": [
    "def Deal_To_Table(Deck: Deck_Entity, Table: Table_Entity):\n",
    "    for i in range(4):\n",
    "        Card = Generate_Random_Card(Deck) \n",
    "        Table.Cards.append(Card)\n",
    "        Deck.Cards.remove(Card)"
   ]
  },
  {
   "cell_type": "code",
   "execution_count": 447,
   "metadata": {},
   "outputs": [],
   "source": [
    "def Deal_Hand(Deck: Deck_Entity, *Players: Player_Entity):\n",
    "    for i in range (3):\n",
    "        for Player in Players:\n",
    "            Deal_Card(Deck, Player)"
   ]
  },
  {
   "cell_type": "code",
   "execution_count": 448,
   "metadata": {},
   "outputs": [],
   "source": [
    "def First_Hand(Deck: Deck_Entity, Table: Table_Entity, *Players: Player_Entity):\n",
    "    Deal_To_Table(Deck, Table)\n",
    "    Deal_Hand(Deck, *Players)"
   ]
  },
  {
   "cell_type": "code",
   "execution_count": 449,
   "metadata": {},
   "outputs": [],
   "source": [
    "def Generate_List_By_Index(List_Of_Iterables, Index = 0):\n",
    "    Result_List = []\n",
    "\n",
    "    for Iterable in List_Of_Iterables:\n",
    "        if Index < len(Iterable):  # Check if the index is valid for the current iterable.\n",
    "            Result_List.append(Iterable[Index])  # Append the element at the given index.\n",
    "\n",
    "    return Result_List"
   ]
  },
  {
   "cell_type": "code",
   "execution_count": 450,
   "metadata": {},
   "outputs": [],
   "source": [
    "import itertools\n",
    "\n",
    "def Group_By_Index(List_Of_Iterables, Index = 0):\n",
    "    List_Of_Iterables.sort(key=lambda x: x[1])\n",
    "    Grouped = [list(Group) for Key, Group in itertools.groupby(List_Of_Iterables, key=lambda x: x[1])]\n",
    "    return Grouped"
   ]
  },
  {
   "cell_type": "code",
   "execution_count": 451,
   "metadata": {},
   "outputs": [],
   "source": [
    "def Generate_All_Possible_Combinations(Iterable):\n",
    "    Final_List = []\n",
    "    for i in range(len(Iterable)):\n",
    "        Combinations = itertools.combinations(Iterable, i+1)\n",
    "        for Item in Combinations:\n",
    "            Final_List.append(list(Item))\n",
    "    \n",
    "    return Final_List"
   ]
  },
  {
   "cell_type": "code",
   "execution_count": 452,
   "metadata": {},
   "outputs": [],
   "source": [
    "def List_Possible_Escobas(Hand: List[List]):\n",
    "    Possible_Escobas = []\n",
    "    Groups_Of_Cards_By_Suit = Group_By_Index(Hand, 1) \n",
    "    \n",
    "    for Suit in Groups_Of_Cards_By_Suit:\n",
    "        All_Combination_Cards = Generate_All_Possible_Combinations(Suit)\n",
    "\n",
    "        for Combination in All_Combination_Cards:\n",
    "            Sum = 0\n",
    "            for Value, Suitt in Combination:\n",
    "                Sum = Sum + Value\n",
    "            if Sum == 15:\n",
    "                Possible_Escobas.append(Combination)\n",
    "\n",
    "    return Possible_Escobas        "
   ]
  },
  {
   "cell_type": "code",
   "execution_count": 453,
   "metadata": {},
   "outputs": [],
   "source": [
    "# Mazo.\n",
    "\n",
    "Mazo = Deck_Entity()"
   ]
  },
  {
   "cell_type": "code",
   "execution_count": 454,
   "metadata": {},
   "outputs": [],
   "source": [
    "# Mesa.\n",
    "\n",
    "Mesa = Table_Entity()"
   ]
  },
  {
   "cell_type": "code",
   "execution_count": 455,
   "metadata": {},
   "outputs": [],
   "source": [
    "# Jugadores.\n",
    "\n",
    "Patricio = Player_Entity('Pato')\n",
    "Jorge = Player_Entity ('George')"
   ]
  },
  {
   "cell_type": "code",
   "execution_count": 456,
   "metadata": {},
   "outputs": [],
   "source": [
    "# Repartir primera mano.\n",
    "\n",
    "First_Hand(Mazo, Mesa, Patricio, Jorge)"
   ]
  },
  {
   "cell_type": "code",
   "execution_count": 457,
   "metadata": {},
   "outputs": [
    {
     "data": {
      "text/plain": [
       "[[6, 'Oro'], [8, 'Copa'], [12, 'Copa']]"
      ]
     },
     "execution_count": 457,
     "metadata": {},
     "output_type": "execute_result"
    }
   ],
   "source": [
    "Patricio.Cards"
   ]
  },
  {
   "cell_type": "code",
   "execution_count": 458,
   "metadata": {},
   "outputs": [
    {
     "data": {
      "text/plain": [
       "[[7, 'Oro'], [6, 'Basto'], [11, 'Copa'], [3, 'Espada']]"
      ]
     },
     "execution_count": 458,
     "metadata": {},
     "output_type": "execute_result"
    }
   ],
   "source": [
    "Mesa.Cards"
   ]
  },
  {
   "cell_type": "code",
   "execution_count": 459,
   "metadata": {},
   "outputs": [],
   "source": [
    "def Check_Escoba(Hand):\n",
    "    Cards_By_Suits = Group_By_Index(Hand, Index = 1)\n",
    "    if len(Cards_By_Suits) > 1:\n",
    "        return False\n",
    "    else:\n",
    "        Sum = 0\n",
    "        for Card in Hand:\n",
    "            if Card[0] in [10, 11, 12]:\n",
    "                Sum = Sum + Card[0] - 2\n",
    "            else:\n",
    "                Sum = Sum + Card[0]\n",
    "        \n",
    "        if Sum == 15:\n",
    "            return True\n",
    "        else:\n",
    "            return False"
   ]
  },
  {
   "cell_type": "code",
   "execution_count": 460,
   "metadata": {},
   "outputs": [
    {
     "data": {
      "text/plain": [
       "False"
      ]
     },
     "execution_count": 460,
     "metadata": {},
     "output_type": "execute_result"
    }
   ],
   "source": [
    "def Pick_Cards(Card_Of_Player, Cards_Of_Table):\n",
    "    Cards_Of_Table.append(Card_Of_Player)\n",
    "    Hand = Cards_Of_Table\n",
    "    return Check_Escoba(Hand)\n",
    "\n",
    "Pick_Cards([5, 'Oro'], [[10, 'Oro']])"
   ]
  },
  {
   "cell_type": "code",
   "execution_count": null,
   "metadata": {},
   "outputs": [],
   "source": []
  },
  {
   "cell_type": "code",
   "execution_count": null,
   "metadata": {},
   "outputs": [],
   "source": []
  }
 ],
 "metadata": {
  "kernelspec": {
   "display_name": "Python 3",
   "language": "python",
   "name": "python3"
  },
  "language_info": {
   "codemirror_mode": {
    "name": "ipython",
    "version": 3
   },
   "file_extension": ".py",
   "mimetype": "text/x-python",
   "name": "python",
   "nbconvert_exporter": "python",
   "pygments_lexer": "ipython3",
   "version": "3.11.9"
  }
 },
 "nbformat": 4,
 "nbformat_minor": 2
}
